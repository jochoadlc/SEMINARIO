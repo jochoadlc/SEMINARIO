{
  "cells": [
    {
      "cell_type": "markdown",
      "metadata": {
        "id": "hVbXYX-RfPWh"
      },
      "source": [
        "# Algoritmos de optimización - Seminario<br>\n",
        "## Nombre y Apellidos: Javier Ochoa de la cruz  <br>\n",
        "## Url Colab: https://colab.research.google.com/drive/1xENIbJ8umVXggl-vi1OZi6ObwMjm25dV?usp=sharing <br>\n",
        "\n",
        "## Url Github: https://github.com/jochoadlc/Seminario/blob/main/JavierOchoaDelaCruz_Seminario1.ipynb\n",
        "<br>\n",
        "\n",
        "## Problema:\n",
        "## 3.Combinar cifras y operaciones\n",
        "\n",
        "## Descripción del problema:\n",
        "\n",
        "El problema consiste en\n",
        "analizar el siguiente problema y diseñar un algoritmo que lo resuelva\n",
        "•\n",
        "Disponemos de las 9 cifras del 1 al 9 (excluimos el cero) y de los 4 signos básicos de las\n",
        "operaciones fundamentales: suma(+), resta( resta(--), multiplicación(*) y\n",
        "•\n",
        "Debemos\n",
        "combinarlos alternativamente sin repetir ninguno de ellos para obtener una\n",
        "cantidad dada. Un ejemplo sería para obtener el 4:\n",
        "4+2\n",
        "6/3*1 = 4\n",
        "                                       "
      ]
    },
    {
      "cell_type": "code",
      "execution_count": null,
      "metadata": {
        "id": "QLAVMzlcpHD2"
      },
      "outputs": [],
      "source": [
        "# EN PRIMER LUGAR IMPORTAMOS LAS LIBRERIAS QUE IREMOS USANDO DURANTE EL EJERCICIO:\n",
        "import numpy as np\n",
        "from operator import itemgetter\n",
        "import matplotlib.pyplot as plt\n",
        "import random\n",
        "import pprint\n",
        "import sys\n",
        "import pandas as pd\n",
        "sys.setrecursionlimit(100000)\n",
        "import math"
      ]
    },
    {
      "cell_type": "markdown",
      "metadata": {
        "id": "3_-exlrTgLd-"
      },
      "source": [
        "## ¿Cuantas posibilidades hay sin tener en cuenta las restricciones?<br>"
      ]
    },
    {
      "cell_type": "markdown",
      "metadata": {
        "id": "WfCUqJyKhPcw"
      },
      "source": [
        "## Respuesta 1.A"
      ]
    },
    {
      "cell_type": "markdown",
      "metadata": {
        "id": "iq6Fe32MgpDX"
      },
      "source": [
        "Revisando las restricciones tenemos que no se admite:\n",
        "•\tNo repetir ningún numero\n",
        "•\tNo repetir ningún signo\n",
        "Eliminando las restricciones, es decir podemos repetir todos los números y todos los signos\n",
        "Nos queda  una posibilidad para números y signos  9^5 posibilidades y 4^4 posibilidades respectivamente, dando una posibilidad de **(9^5)*(4^4)= 15116544**\n",
        "procederemos a implementarlo en python en el siguiente proceso"
      ]
    },
    {
      "cell_type": "code",
      "execution_count": null,
      "metadata": {
        "id": "pXSv_KZgpHD4"
      },
      "outputs": [],
      "source": [
        "rpta =(9**5)*(4**4)\n",
        "print(\"cantidad de posibilidades n restricciones\",rpta)"
      ]
    },
    {
      "cell_type": "markdown",
      "metadata": {
        "id": "brEdIeiWpHD4"
      },
      "source": [
        "##  ¿Cuantas posibilidades hay teniendo en cuenta todas las restricciones."
      ]
    },
    {
      "cell_type": "markdown",
      "metadata": {
        "id": "xFIJrOwKi2Ti"
      },
      "source": [
        "## Respuesta 1.B"
      ]
    },
    {
      "cell_type": "code",
      "execution_count": null,
      "metadata": {
        "id": "38c-7-ejhJmA"
      },
      "outputs": [],
      "source": [
        "Teniendo cuenta en las restriciones que no se peuden repetir operaciones ni numeros, las posibilidade serían:\n",
        "calcular la cantidad de fromas de armar sin tener en cuenta el orden en que los objetos\n",
        "se peude escoger  k objetos  entre n objetos. <br>\n",
        "Posibilidades de números:<br>\n",
        "9P5= 15120    Cantidad de posibilidades para numeros<br>\n",
        "4! = 24       Cantidad de posibilidades para signos<br>\n",
        "Combinando ambas obtenemos: *nPk · len(operadores)!*\n",
        "\n",
        "(9*8*7*6*5) * 4! = 9! = esto nos da 362880 soluciones.\n"
      ]
    },
    {
      "cell_type": "code",
      "execution_count": null,
      "metadata": {
        "id": "78a0tIHEpHD4"
      },
      "outputs": [],
      "source": [
        "rpta2 = (9*8*7*6*5)* 4*3*2*1\n",
        "print(\"cantidad de posibilidades con restricciones\",rpta2)"
      ]
    },
    {
      "cell_type": "markdown",
      "metadata": {
        "id": "DEQ6iPj1pHD5"
      },
      "source": [
        "##   Modelo para el espacio de soluciones"
      ]
    },
    {
      "cell_type": "markdown",
      "metadata": {
        "id": "xX3YNb-4pHD5"
      },
      "source": [
        "\n",
        "## (*) ¿Cual es la estructura de datos que mejor se adapta al problema? Argumentalo.(Es posible que hayas elegido una al principio y veas la necesidad de cambiar, arguentalo)\n"
      ]
    },
    {
      "cell_type": "markdown",
      "metadata": {
        "id": "OxdOUPYtpHD5"
      },
      "source": [
        "luego de trabajar algunas opciones , se corrigio la  primera opcion de tomar una sola lista en forma conjunta donde esten  tanto los numeros como operadores, no fue eficiente porque se aumentaba la complejidad de primero poderlas sepárar y elegir cada elemento segun su clase para armar la cadena solicitada,mas aun fue menos optimo por el mismo hecho que el problema tiene restricciones,  cuando desde el pricipio de debio separalo.\n",
        "Aprovechando este analisis y mejorandolo se toma de forma mas optima dos listas para cada  ordanrlos de mayor a menor o viciversa, en esta caos sera d emenor a mayor, esto da una optimziacion en la toma de los datos por cada vector , en este caso emjroado tendremos dos vectores\n",
        "\n",
        "un vector para simbolos, y otro para numeros\n",
        "\n",
        "por ejemplo :\n",
        "\n",
        "numeros=['1','2','3','4','5','6','7','8','9'] y operadores=['+','*','-','/'] donde ordenamos de una vez los numeros ordenadps de menor a mayor y cuando se combinen se forma un string entre los dos para su evaluacion.y el ordenamiento ayuda facil y optimiza el proceso.\n",
        "\n",
        "Otro de los puntos a tomar que se observo es que segun el ejemplo dado  se observa que los numeros empiezan en posiciones desde posc 1,,3,5,7,9 , en el otro caso de operadores va desde la posicion 2,4,6,8, es decir posicion impar para numeros y posicion par para operadores . esto es muy importante porque para cualquier algoritmo se puede optimizar mas con esta consideracion en el planteamiento de una solucion ,solamente con esta consideracion eliminamos muchas operaciones por comprobacion cuando se contruye el resultado solicitado.\n",
        "\n",
        "tambien se obervo leugode pruebas de datos que cuando se vaya suar algortimo de busqueda, DFS BSF o ramificacion si va interesar este orden porwue optimizara, aunque en fruza bruta no sea de mucha importancia.\n",
        "\n",
        "\n",
        "nums = ['1','2','3','4','5','6','7','8','9']\n",
        "sing  = ['/', '-', '+', '*']"
      ]
    },
    {
      "cell_type": "code",
      "execution_count": null,
      "metadata": {
        "id": "3AK41iibpHD5",
        "outputId": "7f93c1e5-4f7c-4457-e861-6be886b8d98e"
      },
      "outputs": [
        {
          "name": "stdout",
          "output_type": "stream",
          "text": [
            "4.0\n"
          ]
        }
      ],
      "source": [
        "d=4-2+6/3*1\n",
        "print(d)\n",
        "\n",
        "##### lista elegida\n",
        "\n",
        "nums = ['1','2','3','4','5','6','7','8','9']\n",
        "sigs  = ['/', '-', '+', '*']\n"
      ]
    },
    {
      "cell_type": "markdown",
      "metadata": {
        "id": "x4KtUYtIpHD6"
      },
      "source": [
        "En el algoritmo de fuerza bruta, la única restricción que se aplica es que el número no esté repetido en la lista (y que no sea una solución repetida), pero en futuras mejoras, se utilizarán diferentes listas pivote para mejorar este algoritmo."
      ]
    },
    {
      "cell_type": "markdown",
      "metadata": {
        "id": "7Z9U2W7bi-XS"
      },
      "source": [
        "## Según el modelo para el espacio de soluciones<br>"
      ]
    },
    {
      "cell_type": "markdown",
      "metadata": {
        "id": "XmEQltAipHD6"
      },
      "source": [
        "## a ¿Cual es la función objetivo?"
      ]
    },
    {
      "cell_type": "markdown",
      "metadata": {
        "id": "-JR-vmcapHD6"
      },
      "source": [
        "En el contexto de la optimización, una \"función objetivo\" es una función que se debe minimizar o maximizar en un problema de optimización. En este problema buscamos una solución específica y si hay o no posibilidad  de tener solución y se aproxima a la solución solictada con las restriciones ,por lo tanto **no tenemos una función objetivo**.\n",
        "\n"
      ]
    },
    {
      "cell_type": "markdown",
      "metadata": {
        "id": "RB-cvSbOpHD6"
      },
      "source": [
        "\n",
        "## b ¿Es un problema de maximización o minimización?"
      ]
    },
    {
      "cell_type": "markdown",
      "metadata": {
        "id": "qJlPiQeEpHD6"
      },
      "source": [
        "**No se trata de maximización ni minimizar el problema**.\n",
        "ya tenemos una solucion dada , solo debemos ver si con los algortimos somo capaces de dar o no dar la solución y buscar un espacio de solcuiones, por lo tanto **no se trata de una solucion de optimizacion**"
      ]
    },
    {
      "cell_type": "markdown",
      "metadata": {
        "id": "hBalWLM7j1_d"
      },
      "source": [
        "Respuesta"
      ]
    },
    {
      "cell_type": "markdown",
      "metadata": {
        "id": "rlnTYgY1j6I2"
      },
      "source": [
        "## Diseña un algoritmo para resolver el problema por fuerza bruta"
      ]
    },
    {
      "cell_type": "markdown",
      "metadata": {
        "id": "7EbTf7xYpHD6"
      },
      "source": [
        "Este algortimo busca las posibles expresiones matemáticas formadas por permutaciones de números y signos, y luego verifica cuál de estas expresiones da como resultado el número deseado. Luego imprime la expresión encontrada o un mensaje indicando que no se encontró ninguna expresión."
      ]
    },
    {
      "cell_type": "code",
      "execution_count": null,
      "metadata": {
        "id": "ziTRe2HppHD6",
        "outputId": "75b6cfa2-0c50-4672-b302-cfa898685a7b"
      },
      "outputs": [
        {
          "name": "stdout",
          "output_type": "stream",
          "text": [
            "veces 251\n",
            "La expresión  1-2*3/6+4 resultado el número: 4\n"
          ]
        }
      ],
      "source": [
        "from itertools import permutations\n",
        "\n",
        "\n",
        "nums = ['1', '2', '3', '4', '5', '6', '7', '8', '9']\n",
        "sigs = ['/', '-', '+', '*']\n",
        "comb_nums = list(permutations(nums, 5))\n",
        "comb_sigs = list(permutations(sigs, 4))\n",
        "\n",
        "\n",
        "def combina_signos(nums, sigs):\n",
        "    return ''.join(n + s for n, s in zip(nums, sigs)) + nums[-1]\n",
        "\n",
        "#codigo de algoritmo fuerza_bruta dodne busca la expresión matemática que da como resultado el número value utilizando todas las\n",
        "#combinaciones posibles de números y signos.\n",
        "#cantidad_veces se usa para contar cuántas veces se ha evaluado una expresión antes de encontrar el resultado deseado.\n",
        "\n",
        "def fuerza_bruta(comb_nums, comb_sigs, value):\n",
        "    cantidad_veces=0\n",
        "    for nums in comb_nums:\n",
        "        for sigs in comb_sigs:\n",
        "            expression = combina_signos(nums, sigs)\n",
        "            cantidad_veces+=1\n",
        "            if eval(expression) == value:\n",
        "                print('veces',cantidad_veces)\n",
        "                return expression\n",
        "    return None\n",
        "\n",
        "# usa la funcion fuerza bruta para encontrar la expresion deseada partiendo del valor calculado 4 que arrojo una solcuion brindada\n",
        "# se envia de parametro dos listas permutadas segun restriciones donde la formula acepta 5 numeros y 4 signos\n",
        "\n",
        "value = 4\n",
        "expresion = fuerza_bruta(comb_nums, comb_sigs, value)\n",
        "if expression:\n",
        "    print(\"La expresión \", expresion,\"resultado el número:\",value)\n",
        "else:\n",
        "    print(\"No se encontró una expresión\")"
      ]
    },
    {
      "cell_type": "markdown",
      "metadata": {
        "id": "tgrnsC2nkFa8"
      },
      "source": [
        "## Calcula la complejidad del algoritmo por fuerza bruta"
      ]
    },
    {
      "cell_type": "markdown",
      "metadata": {
        "id": "Yslr98iSpHD7"
      },
      "source": [
        "Esto es debido a que se va obtener la evalucaion en cada iteacion la expresion de  n posibilidadesexploradas  e ir así  hasta llegar al último valor de la expresión. A nivel matemático esto se expresa como n! permutaciones posibles. por lo tanto el problema tiene una cantidad de solcuiones finito, n! por lo tanto su complejidad es  **O(n!)**."
      ]
    },
    {
      "cell_type": "code",
      "execution_count": null,
      "metadata": {
        "id": "rvZWwL-ckRST"
      },
      "outputs": [],
      "source": []
    },
    {
      "cell_type": "markdown",
      "metadata": {
        "id": "txbrmLmskReM"
      },
      "source": [
        "## Diseña un algoritmo que mejore la complejidad del algortimo por fuerza bruta. Argumenta porque crees que mejora el algoritmo por fuerza bruta"
      ]
    },
    {
      "cell_type": "markdown",
      "metadata": {
        "id": "z-kyNSvepHD7"
      },
      "source": [
        "En este ejercicio ,no es problema de maximar o minimizar , y tampoco de buscar una cota superior o inferior sin saber si consigueremos una solucion optima , por lo que los algortimos de ramificacion y poda no estan considerados porque seria recorrer todo el arbol tal como lo estamos haciendo en fuerza bruta todas las posibilidades.\n",
        "\n",
        "Entre las posibilidades estan algortimo heuristicos como el genetico y busqueda aleatoria, vamos a probar el mas simple , seria el de busqueda aleotoria, en la busqueda aleatoria lo realizaremos con un límite prefijado de iteraciones donde al final se presenta el resultado de la iteración que más se aproximó al valor objetivo, ya que siempre converge a la solución óptima y es aplicable a probelmas con el caso nuestro.\n"
      ]
    },
    {
      "cell_type": "markdown",
      "metadata": {
        "id": "76BUeHTBpHD7"
      },
      "source": [
        "## BUSQUEDA ALEATORIA"
      ]
    },
    {
      "cell_type": "code",
      "execution_count": null,
      "metadata": {
        "id": "m1eyM21Vkabg",
        "outputId": "be38b666-6732-4f37-c7e9-43512e4bbe86"
      },
      "outputs": [
        {
          "name": "stdout",
          "output_type": "stream",
          "text": [
            "La expresión 9-8+6*1/2 obtiene como resultado en número 4\n"
          ]
        }
      ],
      "source": [
        "## busqueda aleatoria\n",
        "\n",
        "import random\n",
        "\n",
        "nums = ['1', '2', '3', '4', '5', '6', '7', '8', '9']\n",
        "sigs = ['/', '-', '+', '*']\n",
        "\n",
        "comb_nums = list(permutations(nums, 5))\n",
        "comb_sigs = list(permutations(sigs, 4))\n",
        "\n",
        "\n",
        "# funcion  combina_signos toma dos listas de números y signos y los combina para formar una expresión matemática.\n",
        "# Utiliza zip(nums, sigs) para iterar sobre ambas listas simultáneamente\n",
        "# luego une cada número n con su respectivo signo sy finalmente, agrega el último número de la lista nums a la\n",
        "\n",
        "def combina_signos(nums, sigs):\n",
        "    return ''.join(n + s for n, s in zip(nums, sigs)) + nums[-1]\n",
        "\n",
        "#busqueda_aleatoria busca una expresión aleatoria formada por una combinación aleatoria de números y signos.\n",
        "#En cada iteración, elige aleatoriamente un número y un signo de las listas nums y sigs, respectivamente.\n",
        "\n",
        "# Luego, utiliza la función combina_signos para formar una expresión y la evalúa utilizando eval(expression).\n",
        "#Si la expresión resultante es igual al valor deseado (value), devuelve esa expresión.\n",
        "\n",
        "def busqueda_aleatoria(nums, sigs, value, iters):\n",
        "  for i in range(iters):\n",
        "    random_nums = random.choice(nums)\n",
        "    random_sigs = random.choice(sigs)\n",
        "    expression = combina_signos(random_nums, random_sigs)\n",
        "    if eval(expression) == value: return expression\n",
        "\n",
        "  return None\n",
        "\n",
        "value = 4\n",
        "\n",
        "# utiliza la funcion busqueda aleatoria\n",
        "\n",
        "expression = busqueda_aleatoria(comb_nums, comb_sigs, value, 300)\n",
        "\n",
        "print(\"La expresión\", expression, \"obtiene como resultado en número\", value)\n"
      ]
    },
    {
      "cell_type": "markdown",
      "metadata": {
        "id": "eGDB4K6uk1iN"
      },
      "source": [
        "## (*)Calcula la complejidad del algoritmo"
      ]
    },
    {
      "cell_type": "markdown",
      "metadata": {
        "id": "nREzhkStlCq8"
      },
      "source": [
        "\n",
        "El tamaño de comb_nums y comb_sigs es n!, donde n es la longitud de la lista (en este caso, 9 para nums y 4 para sigs).\n",
        "Generar todas las permutaciones toma O(n!) operaciones, que crece de manera factorial.\n",
        "\n",
        "\n",
        "La búsqueda aleatoria tiene la cantodad  iters veces, En cada iteración, se elige aleatoriamente un elemento de comb_nums y comb_sigs.\n",
        "la lista Como comb_nums y comb_sigs tienen tamaño n!, la elección aleatoria toma tiempo constante O(1).\n",
        "\n",
        "la complejidad es O(n) donde en el mejor de los casos (una única iteración) la complejidad sería de **O(1)**  es una complejida baja"
      ]
    },
    {
      "cell_type": "code",
      "execution_count": null,
      "metadata": {
        "id": "sJ-N2etjkyWc",
        "outputId": "7f57dd6c-e9eb-44c6-80f5-8ec1aba40fde"
      },
      "outputs": [
        {
          "name": "stdout",
          "output_type": "stream",
          "text": [
            "veces 79112\n",
            "Valor aleatorio: 9\n",
            "Iteraciones aleatorias: 192\n",
            "Lista de signos: ['-', '+', '.', '/', '**']\n",
            "Lista de números: ['10', '3', '7', '9', '6', '11', '8', '5', '2']\n",
            "expresion: 10+3.5-6**2/8\n"
          ]
        }
      ],
      "source": [
        "import random\n",
        "from itertools import permutations\n",
        "\n",
        "total_posibles_signos = ['.','**', '/', '-', '+', '*']\n",
        "total_posibles_numeros = ['2', '3', '4', '5', '6', '7', '8', '9', '10','11','12']\n",
        "\n",
        "# datos aleatorio ponemos como aleatorio entre un minimo y un amximo de 2 y 10\n",
        "min_valor = 5\n",
        "max_valor = 15\n",
        "\n",
        "numero_aleatorio = random.randint(min_valor, max_valor)\n",
        "iteraciones_aleatorias = random.randint(100, 1000)\n",
        "\n",
        "# aqui geenramos la lista de signos y numneros ya aleatorios\n",
        "\n",
        "singos_aleatorios = random.sample(total_posibles_signos, random.randint(3, len(total_posibles_signos)-1))\n",
        "numeros_aleatorios = random.sample(total_posibles_numeros, random.randint(len(singos_aleatorios)+1, len(total_posibles_numeros)))\n",
        "\n",
        "comb_signos_aleatorios = list(permutations(singos_aleatorios))\n",
        "comb_numeros_aleatorios = list(permutations(numeros_aleatorios, len(singos_aleatorios)+1))\n",
        "\n",
        "\n",
        "# invocamos a la funcion que sua algortimo fuerza bruta, con los nuevas listas creadas bajo permutaciones\n",
        "\n",
        "expresion = fuerza_bruta(comb_numeros_aleatorios, comb_signos_aleatorios,numero_aleatorio)\n",
        "\n",
        "print(\"Valor aleatorio:\", numero_aleatorio)\n",
        "print(\"Iteraciones aleatorias:\", iteraciones_aleatorias)\n",
        "print(\"Lista de signos:\", singos_aleatorios)\n",
        "print(\"Lista de números:\", numeros_aleatorios)\n",
        "print(\"expresion:\", expresion)\n"
      ]
    },
    {
      "cell_type": "markdown",
      "metadata": {
        "id": "zy5ZROmjlGo1"
      },
      "source": [
        "## Aplica el algoritmo al juego de datos generado"
      ]
    },
    {
      "cell_type": "code",
      "execution_count": null,
      "metadata": {
        "id": "_Cmj-PVylMsa",
        "outputId": "0db8c026-1a97-4d9e-9927-9f96276ebad5"
      },
      "outputs": [
        {
          "name": "stdout",
          "output_type": "stream",
          "text": [
            "9.0\n"
          ]
        }
      ],
      "source": [
        "# Respuesta\n",
        "resultado = 10+3.5-6**2/8\n",
        "print(resultado)"
      ]
    },
    {
      "cell_type": "code",
      "execution_count": null,
      "metadata": {
        "id": "7H_MdaYPpHD8",
        "outputId": "f0751257-8df6-4799-f79d-af24a9a40402"
      },
      "outputs": [
        {
          "name": "stdout",
          "output_type": "stream",
          "text": [
            "La expresión y valor 8**2/10+5.6-3 9\n"
          ]
        }
      ],
      "source": [
        "# buscamos una expresion que cumpla en la funcon de busqueda aleatoria bajo los parametros del resulatdo obtendio anteriormente\n",
        "# ejm valor 7 = numero aleatorio de valor generado y la lista nueva de signos y operadores\n",
        "\n",
        "expression = busqueda_aleatoria(comb_numeros_aleatorios, comb_signos_aleatorios,\n",
        "                                numero_aleatorio, iteraciones_aleatorias)\n",
        "if expression is not None:\n",
        "  print(\"La expresión y valor\", expression, numero_aleatorio)\n",
        "else:\n",
        "  print(\"No hemos podido encontrar expresión\", numero_aleatorio)"
      ]
    },
    {
      "cell_type": "markdown",
      "metadata": {
        "id": "eTFWUJQrtGcv"
      },
      "source": [
        "## Enumera las referencias que has utilizado(si ha sido necesario) para llevar a cabo el trabajo"
      ]
    },
    {
      "cell_type": "code",
      "execution_count": null,
      "metadata": {
        "id": "hv1BLiwCpHD8"
      },
      "outputs": [],
      "source": [
        "se ha revisado en paginas web para uso de librerias de pyhton para completar codigos , ademas de usar material de clase\n"
      ]
    },
    {
      "cell_type": "markdown",
      "metadata": {
        "id": "kAkDPUyRtYyH"
      },
      "source": [
        "## Describe brevemente las lineas de como crees que es posible avanzar en el estudio del problema. Ten en cuenta incluso posibles variaciones del problema y/o variaciones al alza del tamaño"
      ]
    },
    {
      "cell_type": "markdown",
      "metadata": {
        "id": "IE0uZmo-tZu-"
      },
      "source": [
        "Un avance es incluir algoritmos geneticos en el proceso de evaluacion , donde debemos utilizar la distancia entre los valores que devuelva en cada iteracion,esta funcion distancia podria ser una funcion a minimizar donde podemos trabajarlo en el algortimo genetico entra el analisis de que tan cerca o lejos esta nuestra solucion de la solucion optima.\n",
        "\n",
        "Primero debemos trabajar en la mutacion donde podemos jugar con los signos que son los que pdoemos evaluar la probalidad de sacar el \"/\" o \"*\" que son los que peude mejorar sus calculos y nos pueden acercar a la solucion mas rapido , en caso contrario, si el individuo está próximo a la solución sería mutar los signos '+' y '-'. Idénticamente podríamos aplicar esta metodología a los números.\n",
        "podríamos intercambiar un número por otro muy próximo sin repetir de las que se toma e la expresión asi avanzar hasta conseguir el mas optimo.\n"
      ]
    }
  ],
  "metadata": {
    "colab": {
      "provenance": [],
      "toc_visible": true
    },
    "kernelspec": {
      "display_name": "Python 3 (ipykernel)",
      "language": "python",
      "name": "python3"
    },
    "language_info": {
      "codemirror_mode": {
        "name": "ipython",
        "version": 3
      },
      "file_extension": ".py",
      "mimetype": "text/x-python",
      "name": "python",
      "nbconvert_exporter": "python",
      "pygments_lexer": "ipython3",
      "version": "3.11.4"
    }
  },
  "nbformat": 4,
  "nbformat_minor": 0
}